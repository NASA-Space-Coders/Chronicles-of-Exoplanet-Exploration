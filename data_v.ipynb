{
 "cells": [
  {
   "cell_type": "code",
   "execution_count": 24,
   "metadata": {},
   "outputs": [],
   "source": [
    "import pandas as pd\n",
    "pd.set_option('display.max_columns', None)"
   ]
  },
  {
   "cell_type": "markdown",
   "metadata": {},
   "source": [
    "Carregando o dataset sobre os exoplanetas"
   ]
  },
  {
   "cell_type": "code",
   "execution_count": 25,
   "metadata": {},
   "outputs": [],
   "source": [
    "table_PS = pd.read_csv(\"data/PS_2024.10.05_09.10.06.csv\", skiprows=96)"
   ]
  },
  {
   "cell_type": "markdown",
   "metadata": {},
   "source": [
    "Criando um novo dataframe com base na coluna default_flag\n",
    "Deixando apenas os exoplanetas confiaveis para futura analise"
   ]
  },
  {
   "cell_type": "code",
   "execution_count": 26,
   "metadata": {},
   "outputs": [],
   "source": [
    "confiavel_PS = table_PS[table_PS[\"default_flag\"]==1]"
   ]
  },
  {
   "cell_type": "markdown",
   "metadata": {},
   "source": [
    "Removendo colunas que comparam o tamanho do exoplanetas com jupiter"
   ]
  },
  {
   "cell_type": "code",
   "execution_count": 27,
   "metadata": {},
   "outputs": [],
   "source": [
    "confiavel_PS = confiavel_PS.drop(\"pl_radj\", axis=1)\n",
    "confiavel_PS = confiavel_PS.drop(\"pl_radjerr1\", axis=1)\n",
    "confiavel_PS = confiavel_PS.drop(\"pl_radjerr2\", axis=1)\n",
    "confiavel_PS = confiavel_PS.drop(\"pl_radjlim\", axis=1)\n",
    "confiavel_PS = confiavel_PS.drop(\"pl_bmassj\", axis=1)\n",
    "confiavel_PS = confiavel_PS.drop(\"pl_bmassjerr1\", axis=1)\n",
    "confiavel_PS = confiavel_PS.drop(\"pl_bmassjerr2\", axis=1)\n",
    "confiavel_PS = confiavel_PS.drop(\"pl_bmassjlim\", axis=1)"
   ]
  },
  {
   "cell_type": "markdown",
   "metadata": {},
   "source": [
    "# Está na zona habitavel?"
   ]
  },
  {
   "cell_type": "markdown",
   "metadata": {},
   "source": [
    "Fazendo uma busca em planetas com base na insolacao deles\n",
    "\n",
    "Considerando um valor entre 0.7 e 1.5, que pode indicar que o exoplaneta esta na zona habitavel"
   ]
  },
  {
   "cell_type": "code",
   "execution_count": 28,
   "metadata": {},
   "outputs": [
    {
     "data": {
      "text/html": [
       "<div>\n",
       "<style scoped>\n",
       "    .dataframe tbody tr th:only-of-type {\n",
       "        vertical-align: middle;\n",
       "    }\n",
       "\n",
       "    .dataframe tbody tr th {\n",
       "        vertical-align: top;\n",
       "    }\n",
       "\n",
       "    .dataframe thead th {\n",
       "        text-align: right;\n",
       "    }\n",
       "</style>\n",
       "<table border=\"1\" class=\"dataframe\">\n",
       "  <thead>\n",
       "    <tr style=\"text-align: right;\">\n",
       "      <th></th>\n",
       "      <th>pl_name</th>\n",
       "      <th>pl_insol</th>\n",
       "    </tr>\n",
       "  </thead>\n",
       "  <tbody>\n",
       "    <tr>\n",
       "      <th>1902</th>\n",
       "      <td>HD 109286 b</td>\n",
       "      <td>0.71</td>\n",
       "    </tr>\n",
       "    <tr>\n",
       "      <th>14740</th>\n",
       "      <td>Kepler-1649 c</td>\n",
       "      <td>0.75</td>\n",
       "    </tr>\n",
       "    <tr>\n",
       "      <th>3030</th>\n",
       "      <td>HD 27969 b</td>\n",
       "      <td>0.76</td>\n",
       "    </tr>\n",
       "    <tr>\n",
       "      <th>14784</th>\n",
       "      <td>Kepler-1652 b</td>\n",
       "      <td>0.81</td>\n",
       "    </tr>\n",
       "    <tr>\n",
       "      <th>34673</th>\n",
       "      <td>TOI-700 d</td>\n",
       "      <td>0.85</td>\n",
       "    </tr>\n",
       "    <tr>\n",
       "      <th>25454</th>\n",
       "      <td>Kepler-443 b</td>\n",
       "      <td>0.86</td>\n",
       "    </tr>\n",
       "    <tr>\n",
       "      <th>14860</th>\n",
       "      <td>Kepler-1661 b</td>\n",
       "      <td>0.88</td>\n",
       "    </tr>\n",
       "    <tr>\n",
       "      <th>32934</th>\n",
       "      <td>LP 890-9 c</td>\n",
       "      <td>0.91</td>\n",
       "    </tr>\n",
       "    <tr>\n",
       "      <th>14795</th>\n",
       "      <td>Kepler-1653 b</td>\n",
       "      <td>0.98</td>\n",
       "    </tr>\n",
       "    <tr>\n",
       "      <th>2646</th>\n",
       "      <td>HD 191939 g</td>\n",
       "      <td>0.99</td>\n",
       "    </tr>\n",
       "    <tr>\n",
       "      <th>19131</th>\n",
       "      <td>Kepler-22 b</td>\n",
       "      <td>1.01</td>\n",
       "    </tr>\n",
       "    <tr>\n",
       "      <th>583</th>\n",
       "      <td>GJ 273 b</td>\n",
       "      <td>1.06</td>\n",
       "    </tr>\n",
       "    <tr>\n",
       "      <th>605</th>\n",
       "      <td>GJ 3293 b</td>\n",
       "      <td>1.07</td>\n",
       "    </tr>\n",
       "    <tr>\n",
       "      <th>34820</th>\n",
       "      <td>Teegarden's Star b</td>\n",
       "      <td>1.08</td>\n",
       "    </tr>\n",
       "    <tr>\n",
       "      <th>25669</th>\n",
       "      <td>Kepler-452 b</td>\n",
       "      <td>1.10</td>\n",
       "    </tr>\n",
       "    <tr>\n",
       "      <th>34786</th>\n",
       "      <td>TRAPPIST-1 d</td>\n",
       "      <td>1.11</td>\n",
       "    </tr>\n",
       "    <tr>\n",
       "      <th>5533</th>\n",
       "      <td>K2-72 e</td>\n",
       "      <td>1.20</td>\n",
       "    </tr>\n",
       "    <tr>\n",
       "      <th>33527</th>\n",
       "      <td>PH2 b</td>\n",
       "      <td>1.20</td>\n",
       "    </tr>\n",
       "    <tr>\n",
       "      <th>25426</th>\n",
       "      <td>Kepler-440 b</td>\n",
       "      <td>1.20</td>\n",
       "    </tr>\n",
       "    <tr>\n",
       "      <th>34674</th>\n",
       "      <td>TOI-700 e</td>\n",
       "      <td>1.27</td>\n",
       "    </tr>\n",
       "    <tr>\n",
       "      <th>36198</th>\n",
       "      <td>Wolf 1061 c</td>\n",
       "      <td>1.30</td>\n",
       "    </tr>\n",
       "    <tr>\n",
       "      <th>5619</th>\n",
       "      <td>K2-9 b</td>\n",
       "      <td>1.36</td>\n",
       "    </tr>\n",
       "    <tr>\n",
       "      <th>33630</th>\n",
       "      <td>Ross 128 b</td>\n",
       "      <td>1.38</td>\n",
       "    </tr>\n",
       "    <tr>\n",
       "      <th>18433</th>\n",
       "      <td>Kepler-1996 c</td>\n",
       "      <td>1.38</td>\n",
       "    </tr>\n",
       "    <tr>\n",
       "      <th>34159</th>\n",
       "      <td>TOI-2134 c</td>\n",
       "      <td>1.40</td>\n",
       "    </tr>\n",
       "    <tr>\n",
       "      <th>25391</th>\n",
       "      <td>Kepler-438 b</td>\n",
       "      <td>1.40</td>\n",
       "    </tr>\n",
       "    <tr>\n",
       "      <th>511</th>\n",
       "      <td>GJ 1061 c</td>\n",
       "      <td>1.40</td>\n",
       "    </tr>\n",
       "    <tr>\n",
       "      <th>21695</th>\n",
       "      <td>Kepler-296 e</td>\n",
       "      <td>1.41</td>\n",
       "    </tr>\n",
       "    <tr>\n",
       "      <th>4963</th>\n",
       "      <td>K2-3 d</td>\n",
       "      <td>1.44</td>\n",
       "    </tr>\n",
       "    <tr>\n",
       "      <th>34444</th>\n",
       "      <td>TOI-4336 A b</td>\n",
       "      <td>1.50</td>\n",
       "    </tr>\n",
       "  </tbody>\n",
       "</table>\n",
       "</div>"
      ],
      "text/plain": [
       "                  pl_name  pl_insol\n",
       "1902          HD 109286 b      0.71\n",
       "14740       Kepler-1649 c      0.75\n",
       "3030           HD 27969 b      0.76\n",
       "14784       Kepler-1652 b      0.81\n",
       "34673           TOI-700 d      0.85\n",
       "25454        Kepler-443 b      0.86\n",
       "14860       Kepler-1661 b      0.88\n",
       "32934          LP 890-9 c      0.91\n",
       "14795       Kepler-1653 b      0.98\n",
       "2646          HD 191939 g      0.99\n",
       "19131         Kepler-22 b      1.01\n",
       "583              GJ 273 b      1.06\n",
       "605             GJ 3293 b      1.07\n",
       "34820  Teegarden's Star b      1.08\n",
       "25669        Kepler-452 b      1.10\n",
       "34786        TRAPPIST-1 d      1.11\n",
       "5533              K2-72 e      1.20\n",
       "33527               PH2 b      1.20\n",
       "25426        Kepler-440 b      1.20\n",
       "34674           TOI-700 e      1.27\n",
       "36198         Wolf 1061 c      1.30\n",
       "5619               K2-9 b      1.36\n",
       "33630          Ross 128 b      1.38\n",
       "18433       Kepler-1996 c      1.38\n",
       "34159          TOI-2134 c      1.40\n",
       "25391        Kepler-438 b      1.40\n",
       "511             GJ 1061 c      1.40\n",
       "21695        Kepler-296 e      1.41\n",
       "4963               K2-3 d      1.44\n",
       "34444        TOI-4336 A b      1.50"
      ]
     },
     "execution_count": 28,
     "metadata": {},
     "output_type": "execute_result"
    }
   ],
   "source": [
    "habitaveis = confiavel_PS.query(\"0.7 <= pl_insol <= 1.5\").sort_values(by=\"pl_insol\")\n",
    "habitaveis[[\"pl_name\", \"pl_insol\"]]"
   ]
  },
  {
   "cell_type": "markdown",
   "metadata": {},
   "source": [
    "# Órbita do exoplaneta"
   ]
  },
  {
   "cell_type": "markdown",
   "metadata": {},
   "source": [
    "Ordena os valores com base na órbita, onde:\n",
    "- Proximo a 0 a órbita é mais circular\n",
    "- Próximo a 1 a órbita é mais hiperbólica\n",
    "- Entre os dois a órbita é elíptica\n",
    "\n",
    "A visualização ignora linhas com valores nulos"
   ]
  },
  {
   "cell_type": "code",
   "execution_count": 29,
   "metadata": {},
   "outputs": [
    {
     "data": {
      "text/html": [
       "<div>\n",
       "<style scoped>\n",
       "    .dataframe tbody tr th:only-of-type {\n",
       "        vertical-align: middle;\n",
       "    }\n",
       "\n",
       "    .dataframe tbody tr th {\n",
       "        vertical-align: top;\n",
       "    }\n",
       "\n",
       "    .dataframe thead th {\n",
       "        text-align: right;\n",
       "    }\n",
       "</style>\n",
       "<table border=\"1\" class=\"dataframe\">\n",
       "  <thead>\n",
       "    <tr style=\"text-align: right;\">\n",
       "      <th></th>\n",
       "      <th>pl_name</th>\n",
       "      <th>pl_orbeccen</th>\n",
       "    </tr>\n",
       "  </thead>\n",
       "  <tbody>\n",
       "    <tr>\n",
       "      <th>33851</th>\n",
       "      <td>TOI-1347 c</td>\n",
       "      <td>0.0000</td>\n",
       "    </tr>\n",
       "    <tr>\n",
       "      <th>6570</th>\n",
       "      <td>Kepler-101 c</td>\n",
       "      <td>0.0000</td>\n",
       "    </tr>\n",
       "    <tr>\n",
       "      <th>35507</th>\n",
       "      <td>WASP-24 b</td>\n",
       "      <td>0.0000</td>\n",
       "    </tr>\n",
       "    <tr>\n",
       "      <th>1986</th>\n",
       "      <td>HD 116029 b</td>\n",
       "      <td>0.0000</td>\n",
       "    </tr>\n",
       "    <tr>\n",
       "      <th>6380</th>\n",
       "      <td>Kepler-10 b</td>\n",
       "      <td>0.0000</td>\n",
       "    </tr>\n",
       "    <tr>\n",
       "      <th>...</th>\n",
       "      <td>...</td>\n",
       "      <td>...</td>\n",
       "    </tr>\n",
       "    <tr>\n",
       "      <th>3560</th>\n",
       "      <td>HD 80606 b</td>\n",
       "      <td>0.9300</td>\n",
       "    </tr>\n",
       "    <tr>\n",
       "      <th>33652</th>\n",
       "      <td>TIC 241249530 b</td>\n",
       "      <td>0.9412</td>\n",
       "    </tr>\n",
       "    <tr>\n",
       "      <th>3840</th>\n",
       "      <td>HIP 66074 b</td>\n",
       "      <td>0.9480</td>\n",
       "    </tr>\n",
       "    <tr>\n",
       "      <th>3046</th>\n",
       "      <td>HD 28254 b</td>\n",
       "      <td>0.9500</td>\n",
       "    </tr>\n",
       "    <tr>\n",
       "      <th>2740</th>\n",
       "      <td>HD 20782 b</td>\n",
       "      <td>0.9500</td>\n",
       "    </tr>\n",
       "  </tbody>\n",
       "</table>\n",
       "<p>2365 rows × 2 columns</p>\n",
       "</div>"
      ],
      "text/plain": [
       "               pl_name  pl_orbeccen\n",
       "33851       TOI-1347 c       0.0000\n",
       "6570      Kepler-101 c       0.0000\n",
       "35507        WASP-24 b       0.0000\n",
       "1986       HD 116029 b       0.0000\n",
       "6380       Kepler-10 b       0.0000\n",
       "...                ...          ...\n",
       "3560        HD 80606 b       0.9300\n",
       "33652  TIC 241249530 b       0.9412\n",
       "3840       HIP 66074 b       0.9480\n",
       "3046        HD 28254 b       0.9500\n",
       "2740        HD 20782 b       0.9500\n",
       "\n",
       "[2365 rows x 2 columns]"
      ]
     },
     "execution_count": 29,
     "metadata": {},
     "output_type": "execute_result"
    }
   ],
   "source": [
    "orbita = confiavel_PS[confiavel_PS[\"pl_orbeccen\"].notna()].sort_values(by=\"pl_orbeccen\")\n",
    "orbita[[\"pl_name\",\"pl_orbeccen\"]]"
   ]
  },
  {
   "cell_type": "markdown",
   "metadata": {},
   "source": [
    "# Distancia da terra até"
   ]
  },
  {
   "cell_type": "markdown",
   "metadata": {},
   "source": [
    "Criando uma nova coluna no dataset que mostra a distancia da terra para o exoplaneta em km\n",
    "\n",
    "No caso, transforma de Parsec para km"
   ]
  },
  {
   "cell_type": "code",
   "execution_count": 30,
   "metadata": {},
   "outputs": [],
   "source": [
    "PARSEC = (30857 * 10e12)\n",
    "confiavel_PS[\"sy_dist_km\"] = confiavel_PS[\"sy_dist\"] * PARSEC"
   ]
  },
  {
   "cell_type": "markdown",
   "metadata": {},
   "source": [
    "Seleciona os planetas com temperatura entre 273 e 373 Kelvin\n",
    "e os ordena da menor para maior temperatura\n",
    "\n",
    "A temperatura escolhida é aquela onde pode existir água no seu estado líquido\n",
    "\n",
    "A visualização ignora linhas com valores nulos"
   ]
  },
  {
   "cell_type": "code",
   "execution_count": 13,
   "metadata": {},
   "outputs": [
    {
     "data": {
      "text/html": [
       "<div>\n",
       "<style scoped>\n",
       "    .dataframe tbody tr th:only-of-type {\n",
       "        vertical-align: middle;\n",
       "    }\n",
       "\n",
       "    .dataframe tbody tr th {\n",
       "        vertical-align: top;\n",
       "    }\n",
       "\n",
       "    .dataframe thead th {\n",
       "        text-align: right;\n",
       "    }\n",
       "</style>\n",
       "<table border=\"1\" class=\"dataframe\">\n",
       "  <thead>\n",
       "    <tr style=\"text-align: right;\">\n",
       "      <th></th>\n",
       "      <th>pl_name</th>\n",
       "      <th>pl_eqt</th>\n",
       "    </tr>\n",
       "  </thead>\n",
       "  <tbody>\n",
       "    <tr>\n",
       "      <th>27890</th>\n",
       "      <td>Kepler-61 b</td>\n",
       "      <td>273.0</td>\n",
       "    </tr>\n",
       "    <tr>\n",
       "      <th>36321</th>\n",
       "      <td>eps Ind A b</td>\n",
       "      <td>275.0</td>\n",
       "    </tr>\n",
       "    <tr>\n",
       "      <th>18433</th>\n",
       "      <td>Kepler-1996 c</td>\n",
       "      <td>276.0</td>\n",
       "    </tr>\n",
       "    <tr>\n",
       "      <th>34820</th>\n",
       "      <td>Teegarden's Star b</td>\n",
       "      <td>277.0</td>\n",
       "    </tr>\n",
       "    <tr>\n",
       "      <th>2646</th>\n",
       "      <td>HD 191939 g</td>\n",
       "      <td>278.0</td>\n",
       "    </tr>\n",
       "    <tr>\n",
       "      <th>...</th>\n",
       "      <td>...</td>\n",
       "      <td>...</td>\n",
       "    </tr>\n",
       "    <tr>\n",
       "      <th>2138</th>\n",
       "      <td>HD 137496 c</td>\n",
       "      <td>370.0</td>\n",
       "    </tr>\n",
       "    <tr>\n",
       "      <th>226</th>\n",
       "      <td>CFBDSIR J145829+101343 b</td>\n",
       "      <td>370.0</td>\n",
       "    </tr>\n",
       "    <tr>\n",
       "      <th>16433</th>\n",
       "      <td>Kepler-1801 c</td>\n",
       "      <td>371.0</td>\n",
       "    </tr>\n",
       "    <tr>\n",
       "      <th>4945</th>\n",
       "      <td>K2-3 c</td>\n",
       "      <td>372.0</td>\n",
       "    </tr>\n",
       "    <tr>\n",
       "      <th>33910</th>\n",
       "      <td>TOI-1470 c</td>\n",
       "      <td>373.0</td>\n",
       "    </tr>\n",
       "  </tbody>\n",
       "</table>\n",
       "<p>74 rows × 2 columns</p>\n",
       "</div>"
      ],
      "text/plain": [
       "                        pl_name  pl_eqt\n",
       "27890               Kepler-61 b   273.0\n",
       "36321               eps Ind A b   275.0\n",
       "18433             Kepler-1996 c   276.0\n",
       "34820        Teegarden's Star b   277.0\n",
       "2646                HD 191939 g   278.0\n",
       "...                         ...     ...\n",
       "2138                HD 137496 c   370.0\n",
       "226    CFBDSIR J145829+101343 b   370.0\n",
       "16433             Kepler-1801 c   371.0\n",
       "4945                     K2-3 c   372.0\n",
       "33910                TOI-1470 c   373.0\n",
       "\n",
       "[74 rows x 2 columns]"
      ]
     },
     "execution_count": 13,
     "metadata": {},
     "output_type": "execute_result"
    }
   ],
   "source": [
    "agua_liquida = confiavel_PS[confiavel_PS[\"pl_eqt\"].notna()].query(\"273 <= pl_eqt <= 373\").sort_values(\"pl_eqt\")\n",
    "agua_liquida[[\"pl_name\", \"pl_eqt\"]]"
   ]
  },
  {
   "cell_type": "markdown",
   "metadata": {},
   "source": [
    "# Composição Atmosférica e Condições de Superfície"
   ]
  },
  {
   "cell_type": "markdown",
   "metadata": {},
   "source": [
    "Colunas relacionadas: pl_eqt, pl_insol, pl_bmasse, st_teff, st_rad\n",
    "A combinação das colunas relacionadas à massa e raio do planeta com a temperatura da estrela (coluna st_teff) e seu tamanho (coluna st_rad) pode ajudar a estimar a composição atmosférica ou condições de superfície.\n",
    "Pergunta: Quais são as possíveis condições atmosféricas do planeta? Ele possui uma atmosfera densa ou rarefeita?"
   ]
  },
  {
   "cell_type": "markdown",
   "metadata": {},
   "source": [
    "pl_eqt - A temperatura de equilíbrio do planeta modelada como um corpo negro aquecido apenas por sua estrela        hospedeira, ou, no caso de planetas com imagem direta, a temperatura efetiva do planeta necessária para corresponder à luminosidade medida, caso o planeta fosse um corpo negro\n",
    "\n",
    "pl_bmasse - Melhor estimativa de massa do planeta disponível, em ordem de preferência: Massa, Msin(i)/sin(i), ou Msin(i), dependendo da disponibilidade, e medida em massas da Terra\n",
    "\n",
    "st_teff - Temperatura da estrela modelada como um corpo negro emitindo a mesma quantidade total de radiação eletromagnética\n",
    "\n",
    "st_rad - Comprimento de um segmento de linha do centro da estrela até sua superfície, medido em unidades do raio do Sol"
   ]
  },
  {
   "cell_type": "markdown",
   "metadata": {},
   "source": [
    "### 1. **Temperatura da estrela modelada como um corpo negro emitindo a mesma quantidade total de radiação eletromagnética**\n",
    "   - **Explicação:** Esta expressão refere-se à temperatura efetiva de uma estrela, que é uma forma de descrever sua temperatura superficial. Um corpo negro é um objeto teórico que absorve toda a radiação que incide sobre ele e emite radiação térmica de acordo com sua temperatura. No contexto das estrelas, a temperatura é calculada a partir da quantidade total de radiação eletromagnética que a estrela emite. Isso é importante para entender a energia que a estrela produz e como essa energia se relaciona com a sua cor, luminosidade e evolução.\n",
    "\n",
    "### 2. **Comprimento de um segmento de linha do centro da estrela até sua superfície, medido em unidades do raio do Sol**\n",
    "   - **Explicação:** Este trecho refere-se ao raio de uma estrela, que é a distância do centro até a superfície. A unidade de medida é o raio do Sol (R☉), que serve como um padrão para comparação. A análise do raio é fundamental para determinar características físicas da estrela, como sua densidade e a força da gravidade em sua superfície. Além disso, o raio pode ajudar a classificar as estrelas em diferentes categorias (por exemplo, estrelas anãs, gigantes, supergigantes) e influenciar a habitabilidade de exoplanetas.\n",
    "\n",
    "### 3. **Quantidade de matéria contida na estrela, medida em unidades de massas do Sol**\n",
    "   - **Explicação:** Esta expressão diz respeito à massa estelar, que é a totalidade da matéria presente em uma estrela. A massa é medida em unidades da massa do Sol (M☉), que é um padrão de referência na astronomia. A massa de uma estrela tem implicações significativas em sua evolução, como a fase da vida em que se encontra, sua luminosidade e o tipo de final que terá (supernova, anã branca, etc.). Também influencia a gravidade que a estrela exerce sobre objetos ao seu redor, como planetas e outros corpos celestes.\n",
    "\n",
    "### 4. **Aceleração gravitacional experimentada na superfície estelar**\n",
    "   - **Explicação:** Esta frase se refere à gravidade superficial de uma estrela, que é a aceleração gravitacional que um objeto sentiria na superfície da estrela. Essa aceleração é influenciada pela massa da estrela e pelo seu raio. Em geral, uma estrela mais massiva e com um raio menor terá uma gravidade superficial mais alta. Compreender a gravidade superficial é essencial para estudar a estrutura interna da estrela, a dinâmica das camadas de gás em sua atmosfera, e como essa gravidade afeta a formação de planetas e outros corpos em seu entorno."
   ]
  },
  {
   "cell_type": "markdown",
   "metadata": {},
   "source": [
    "# Sistema Estelar (Número de Estrelas e Planetas)"
   ]
  },
  {
   "cell_type": "markdown",
   "metadata": {},
   "source": [
    "Colunas: sy_snum, sy_pnum\n",
    "Essas colunas indicam quantas estrelas e planetas estão no sistema do exoplaneta.\n",
    "Pergunta: O planeta orbita uma estrela única ou faz parte de um sistema binário? Sistemas estelares múltiplos podem ter dinâmicas mais complexas que afetam a habitabilidade."
   ]
  },
  {
   "cell_type": "markdown",
   "metadata": {},
   "source": [
    "sy_snum - Número de estrelas no sistema planetário\n",
    "\n",
    "sy_pnum - Número de planetas confirmados no sistema planetário"
   ]
  },
  {
   "cell_type": "markdown",
   "metadata": {},
   "source": [
    "# Parâmetros Estelares (Propriedades da Estrela Hospedeira)"
   ]
  },
  {
   "cell_type": "markdown",
   "metadata": {},
   "source": [
    "\n",
    "Colunas: st_teff, st_rad, st_mass, st_met, st_logg\n",
    "Essas colunas descrevem as características físicas da estrela hospedeira, como temperatura, raio, massa, metalicidade (abundância de elementos mais pesados que hélio), e gravidade superficial.\n",
    "Pergunta: A estrela é semelhante ao Sol ou muito diferente? A habitabilidade do planeta também depende muito da natureza da estrela hospedeira."
   ]
  },
  {
   "cell_type": "markdown",
   "metadata": {},
   "source": [
    "st_teff - Temperatura da estrela modelada como um corpo negro emitindo a mesma quantidade total de radiação eletromagnética\n",
    "\n",
    "st_rad - Comprimento de um segmento de linha do centro da estrela até sua superfície, medido em unidades do raio do Sol\n",
    "\n",
    "st_mass - Quantidade de matéria contida na estrela, medida em unidades de massas do Sol\n",
    "\n",
    "st_logg - Aceleração gravitacional experimentada na superfície estelar"
   ]
  },
  {
   "cell_type": "markdown",
   "metadata": {},
   "source": [
    "### 1. **Temperatura da estrela modelada como um corpo negro emitindo a mesma quantidade total de radiação eletromagnética**\n",
    "   - **Explicação:** Aqui, estamos tratando a estrela como um **corpo negro**, que é um modelo teórico de objeto que emite radiação de maneira ideal, ou seja, absorve toda a radiação incidente sem refletir ou transmitir. A **temperatura efetiva** da estrela é calculada considerando a quantidade total de radiação eletromagnética que ela emite, como se fosse um corpo negro perfeito. Esse conceito é utilizado para estimar a temperatura superficial da estrela com base na quantidade de energia que ela emite.\n",
    "\n",
    "### 2. **Comprimento de um segmento de linha do centro da estrela até sua superfície, medido em unidades do raio do Sol**\n",
    "   - **Explicação:** Esta frase se refere ao **raio estelar**, que é a distância do centro da estrela até sua superfície. A unidade de medida utilizada é o raio do Sol (R☉), que é uma referência comum em astronomia para comparar tamanhos de estrelas. Por exemplo, se o raio de uma estrela é 2 R☉, significa que o raio dessa estrela é o dobro do raio do Sol.\n",
    "\n",
    "### 3. **Quantidade de matéria contida na estrela, medida em unidades de massas do Sol**\n",
    "   - **Explicação:** Essa frase refere-se à **massa estelar**, que é a quantidade total de matéria presente na estrela. A unidade de medida utilizada é a **massa do Sol** (M☉), que serve como padrão em astronomia. Assim, se a massa de uma estrela for 3 M☉, significa que a estrela tem três vezes a massa do Sol. Isso é importante porque a massa de uma estrela afeta diretamente sua evolução, brilho, e tempo de vida.\n",
    "\n",
    "### 4. **Aceleração gravitacional experimentada na superfície estelar**\n",
    "   - **Explicação:** Essa frase descreve a **gravidade superficial** de uma estrela, que é a aceleração gravitacional sentida na superfície da estrela devido à sua massa e tamanho. Quanto maior a massa e menor o raio da estrela, maior será a aceleração gravitacional em sua superfície. A gravidade superficial é uma característica fundamental para entender a física das estrelas, incluindo sua estrutura e como a luz e outras partículas interagem com a superfície."
   ]
  }
 ],
 "metadata": {
  "kernelspec": {
   "display_name": "hackathon",
   "language": "python",
   "name": "python3"
  },
  "language_info": {
   "codemirror_mode": {
    "name": "ipython",
    "version": 3
   },
   "file_extension": ".py",
   "mimetype": "text/x-python",
   "name": "python",
   "nbconvert_exporter": "python",
   "pygments_lexer": "ipython3",
   "version": "3.12.7"
  }
 },
 "nbformat": 4,
 "nbformat_minor": 2
}
